{
  "nbformat": 4,
  "nbformat_minor": 0,
  "metadata": {
    "colab": {
      "provenance": []
    },
    "kernelspec": {
      "name": "python3",
      "display_name": "Python 3"
    },
    "language_info": {
      "name": "python"
    }
  },
  "cells": [
    {
      "cell_type": "code",
      "execution_count": null,
      "metadata": {
        "id": "rJbWftg22UOV"
      },
      "outputs": [],
      "source": [
        "import torch\n",
        "from tqdm import tqdm\n",
        "from sklearn.metrics import roc_auc_score"
      ]
    },
    {
      "cell_type": "code",
      "source": [
        "def train_model(model, train_loader, val_loader, epoch, loss_function, optimizer, path, early_stop):\n",
        "    \"\"\"\n",
        "    pytorch model train function\n",
        "    :param model: pytorch model\n",
        "    :param train_loader: dataloader, train data loader\n",
        "    :param val_loader: dataloader, val data loader\n",
        "    :param epoch: int, number of iters\n",
        "    :param loss_function: loss function of train model\n",
        "    :param optimizer: pytorch optimizer\n",
        "    :param path: save path\n",
        "    :param early_stop: int, early stop number\n",
        "    :return: None\n",
        "    \"\"\"\n",
        "    # use GPU\n",
        "    device = torch.device(\"cuda\" if torch.cuda.is_available() else \"cpu\")\n",
        "    model.to(device)\n",
        "    \n",
        "    \n",
        "    patience, eval_loss = 0, 0"
      ],
      "metadata": {
        "id": "P4jJI3QH2YBh"
      },
      "execution_count": null,
      "outputs": []
    },
    {
      "cell_type": "code",
      "source": [
        "   for i in range(epoch):\n",
        "        y_train_income_true = []\n",
        "        y_train_income_predict = []\n",
        "        y_train_marry_true = []\n",
        "        y_train_marry_predict = []\n",
        "        total_loss, count = 0, 0\n",
        "        for idx, (x, y1, y2) in tqdm(enumerate(train_loader), total=len(train_loader)):\n",
        "            x, y1, y2 = x.to(device), y1.to(device), y2.to(device)\n",
        "            predict = model(x)\n",
        "            y_train_income_true += list(y1.squeeze().cpu().numpy())\n",
        "            y_train_marry_true += list(y2.squeeze().cpu().numpy())\n",
        "            y_train_income_predict += list(predict[0].squeeze().cpu().detach().numpy())\n",
        "            y_train_marry_predict += list(predict[1].squeeze().cpu().detach().numpy())\n",
        "            loss_1 = loss_function(predict[0], y1.unsqueeze(1).float())\n",
        "            loss_2 = loss_function(predict[1], y2.unsqueeze(1).float())\n",
        "            loss = loss_1 + loss_2\n",
        "            optimizer.zero_grad()\n",
        "            loss.backward()\n",
        "            optimizer.step()\n",
        "            total_loss += float(loss)\n",
        "            count += 1\n",
        "        torch.save(model, path.format(i + 1))\n",
        "        income_auc = roc_auc_score(y_train_income_true, y_train_income_predict)\n",
        "        marry_auc = roc_auc_score(y_train_marry_true, y_train_marry_predict)\n",
        "        print(\"Epoch %d train loss is %.3f, income auc is %.3f and marry auc is %.3f\" % (i + 1, total_loss / count,\n",
        "                                                                                         income_auc, marry_auc))\n",
        "        \n",
        "       \n",
        "        total_eval_loss = 0\n",
        "        model.eval()\n",
        "        count_eval = 0\n",
        "        y_val_income_true = []\n",
        "        y_val_marry_true = []\n",
        "        y_val_income_predict = []\n",
        "        y_val_marry_predict = []\n",
        "        for idx, (x, y1, y2) in tqdm(enumerate(val_loader), total=len(val_loader)):\n",
        "            x, y1, y2 = x.to(device), y1.to(device), y2.to(device)\n",
        "            predict = model(x)\n",
        "            y_val_income_true += list(y1.squeeze().cpu().numpy())\n",
        "            y_val_marry_true += list(y2.squeeze().cpu().numpy())\n",
        "            y_val_income_predict += list(predict[0].squeeze().cpu().detach().numpy())\n",
        "            y_val_marry_predict += list(predict[1].squeeze().cpu().detach().numpy())\n",
        "            loss_1 = loss_function(predict[0], y1.unsqueeze(1).float())\n",
        "            loss_2 = loss_function(predict[1], y2.unsqueeze(1).float())\n",
        "            loss = loss_1 + loss_2\n",
        "            total_eval_loss += float(loss)\n",
        "            count_eval += 1\n",
        "        income_auc = roc_auc_score(y_val_income_true, y_val_income_predict)\n",
        "        marry_auc = roc_auc_score(y_val_marry_true, y_val_marry_predict)\n",
        "        print(\"Epoch %d val loss is %.3f, income auc is %.3f and marry auc is %.3f\" % (i + 1,\n",
        "                                                                                       total_eval_loss / count_eval,\n",
        "                                                                                       income_auc, marry_auc))\n",
        "        \n",
        "        # earl stopping\n",
        "        if i == 0:\n",
        "            eval_loss = total_eval_loss / count_eval\n",
        "        else:\n",
        "            if total_eval_loss / count_eval < eval_loss:\n",
        "                eval_loss = total_eval_loss / count_eval\n",
        "            else:\n",
        "                if patience < early_stop:\n",
        "                    patience += 1\n",
        "                else:\n",
        "                    print(\"val loss is not decrease in %d epoch and break training\" % patience)\n",
        "                    break"
      ],
      "metadata": {
        "id": "U0BTBTAW2dop"
      },
      "execution_count": null,
      "outputs": []
    },
    {
      "cell_type": "code",
      "source": [],
      "metadata": {
        "id": "l6xiGOW92xIP"
      },
      "execution_count": null,
      "outputs": []
    }
  ]
}